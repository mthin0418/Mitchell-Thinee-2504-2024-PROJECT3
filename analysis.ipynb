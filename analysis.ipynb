{
 "cells": [
  {
   "cell_type": "code",
   "execution_count": 20,
   "id": "1bf71550-2c5c-4c9c-9c65-750e69d36715",
   "metadata": {},
   "outputs": [
    {
     "name": "stderr",
     "output_type": "stream",
     "text": [
      "\u001b[32m\u001b[1m  Activating\u001b[22m\u001b[39m project at `c:\\Users\\mitch\\OneDrive\\Desktop\\Julia Programs\\Project3\\Mitchell-Thinee-2504-2024-PROJECT3`\n"
     ]
    }
   ],
   "source": [
    "using Pkg\n",
    "Pkg.activate(\".\")"
   ]
  },
  {
   "cell_type": "markdown",
   "id": "c68a9ad5",
   "metadata": {},
   "source": [
    "## Task 1"
   ]
  },
  {
   "cell_type": "markdown",
   "id": "89cd8b77",
   "metadata": {},
   "source": [
    "In task one, we are required to create several splots and summaries for the following variables; Price, Number of Rooms, Landsize, Distance from the centre of Melbourne and method of sale. Below are a number of these type of plots with some analysis and trend identification. "
   ]
  },
  {
   "cell_type": "code",
   "execution_count": 21,
   "id": "38429ebc",
   "metadata": {},
   "outputs": [
    {
     "data": {
      "text/plain": [
       "Dict{String, String} with 9 entries:\n",
       "  \"VB\" => \"Vendor Bid\"\n",
       "  \"S\"  => \"Property Sold\"\n",
       "  \"W\"  => \"Withdrawn prior to Auction\"\n",
       "  \"SS\" => \"Sold After Auction\"\n",
       "  \"PI\" => \"Property passed in\"\n",
       "  \"PN\" => \"Sold prior not Disclosed\"\n",
       "  \"SN\" => \"Sold not Disclosed\"\n",
       "  \"SA\" => \"Sold After Auction\"\n",
       "  \"SP\" => \"Property Sold Prior\""
      ]
     },
     "execution_count": 21,
     "metadata": {},
     "output_type": "execute_result"
    }
   ],
   "source": [
    "using DataFrames, CSV, StatsPlots,  Plots, StatsBase, PlotlyJS, SplitApplyCombine\n",
    "csv_file = CSV.File(\"data/Melbourne_housing_FULL.csv\")\n",
    "df = DataFrame(csv_file)\n",
    "#println(\"Data size: \", size(df))\n",
    "#println(\"Columns in the data: \", names(df))\n",
    "#println(first(df,10))\n",
    "\n",
    "# Changing the Method names in the Dataframe to their actual, for plotting.\n",
    "method_mapping = Dict(\"PI\" => \"Property passed in\", \n",
    "                      \"PN\" => \"Sold prior not Disclosed\", \n",
    "                      \"S\" => \"Property Sold\",\n",
    "                      \"SA\" => \"Sold After Auction\", \n",
    "                      \"SN\" => \"Sold not Disclosed\", \n",
    "                      \"SP\" => \"Property Sold Prior\",\n",
    "                      \"SS\" => \"Sold After Auction\", \n",
    "                      \"VB\" => \"Vendor Bid\", \n",
    "                      \"W\" => \"Withdrawn prior to Auction\")\n"
   ]
  },
  {
   "cell_type": "code",
   "execution_count": 24,
   "id": "2a726d98",
   "metadata": {},
   "outputs": [
    {
     "ename": "LoadError",
     "evalue": "UndefVarError: `bar` not defined",
     "output_type": "error",
     "traceback": [
      "UndefVarError: `bar` not defined",
      "",
      "Stacktrace:",
      " [1] top-level scope",
      "   @ In[24]:10"
     ]
    }
   ],
   "source": [
    "using DataFrames, CSV, StatsPlots,  Plots, StatsBase, PlotlyJS, SplitApplyCombine\n",
    "# Group the data and calculate average price, skipping missing values\n",
    "rooms_methods_df = combine(groupby(df, [:Rooms, :Method]), \n",
    "                     :Price => (x -> mean(skipmissing(x))) => :AvgPrice)\n",
    "\n",
    "# Maps the abbreviated method names to full names\n",
    "full_method_names = [method_mapping[m] for m in rooms_methods_df.Method]\n",
    "\n",
    "# Creates the bar plot\n",
    "bar(rooms_methods_df.Rooms, rooms_methods_df.AvgPrice, group=full_method_names, \n",
    "    xlabel=\"Number of Rooms\", ylabel=\"Average Price (AUD)\", \n",
    "    title=\"Average Price by Rooms and Method of Sale\",\n",
    "    titlefontsize=11, legend=:topleft, legendfontsize=9)  # Adjust title size here\n",
    "       "
   ]
  }
 ],
 "metadata": {
  "kernelspec": {
   "display_name": "Julia 1.10.4",
   "language": "julia",
   "name": "julia-1.10"
  },
  "language_info": {
   "file_extension": ".jl",
   "mimetype": "application/julia",
   "name": "julia",
   "version": "1.10.4"
  }
 },
 "nbformat": 4,
 "nbformat_minor": 5
}
